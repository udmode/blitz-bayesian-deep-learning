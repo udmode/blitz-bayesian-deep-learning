{
 "cells": [
  {
   "cell_type": "code",
   "execution_count": 1,
   "metadata": {
    "ExecuteTime": {
     "end_time": "2024-05-03T06:04:43.125679Z",
     "start_time": "2024-05-03T06:04:39.769436Z"
    }
   },
   "outputs": [],
   "source": [
    "import pandas as pd\n",
    "import numpy as np\n",
    "\n",
    "import torch\n",
    "import torch.nn as nn\n",
    "import torch.optim as optim\n",
    "import torch.nn.functional as F\n",
    "\n",
    "from blitz.modules import BayesianLSTM\n",
    "from blitz.utils import variational_estimator\n",
    "\n",
    "from sklearn.model_selection import train_test_split\n",
    "from sklearn.preprocessing import StandardScaler\n",
    "\n",
    "import matplotlib.pyplot as plt\n",
    "%matplotlib inline\n",
    "\n",
    "from collections import deque"
   ]
  },
  {
   "cell_type": "code",
   "execution_count": 2,
   "metadata": {
    "ExecuteTime": {
     "end_time": "2024-05-03T06:04:45.435643Z",
     "start_time": "2024-05-03T06:04:45.334235Z"
    }
   },
   "outputs": [],
   "source": [
    "\"\"\"\n",
    "DOWNLOAD THE DATASET AT KAGGLE AT THIS LINK:\n",
    "https://www.kaggle.com/szrlee/stock-time-series-20050101-to-20171231\n",
    "\"\"\"\n",
    "file_path = \"data/\"\n",
    "input_file = \"oanda_db_USD_JPY_M1_20240501134919.csv\"\n",
    "# https://www.histdata.com/download-free-forex-historical-data/?/metatrader/1-minute-bar-quotes/USDJPY\n",
    "# input_file = \"DAT_MT_USDJPY_M1_2020-02.csv\"\n",
    "\n",
    "# df = pd.read_csv(ibm)\n",
    "df = pd.read_csv(f\"{file_path}{input_file}\")\n"
   ]
  },
  {
   "cell_type": "code",
   "execution_count": 3,
   "metadata": {
    "ExecuteTime": {
     "end_time": "2024-05-03T06:04:46.275040Z",
     "start_time": "2024-05-03T06:04:46.262389Z"
    }
   },
   "outputs": [
    {
     "data": {
      "text/plain": "      ID                 Date     Open     High      Low    Close  Volume  \\\n0  41468  2024-03-15 00:00:00  148.112  148.134  148.098  148.101     235   \n1  41469  2024-03-15 00:01:00  148.101  148.104  148.078  148.080     273   \n2  41470  2024-03-15 00:02:00  148.080  148.090  148.052  148.052     222   \n3  41471  2024-03-15 00:03:00  148.052  148.088  148.052  148.087     208   \n4  41472  2024-03-15 00:04:00  148.087  148.111  148.081  148.096     201   \n\n   Complete           Created_at           Updated_at  \n0         1  2024-04-28 20:00:33  2024-04-28 20:00:33  \n1         1  2024-04-28 20:00:33  2024-04-28 20:00:33  \n2         1  2024-04-28 20:00:33  2024-04-28 20:00:33  \n3         1  2024-04-28 20:00:33  2024-04-28 20:00:33  \n4         1  2024-04-28 20:00:33  2024-04-28 20:00:33  ",
      "text/html": "<div>\n<style scoped>\n    .dataframe tbody tr th:only-of-type {\n        vertical-align: middle;\n    }\n\n    .dataframe tbody tr th {\n        vertical-align: top;\n    }\n\n    .dataframe thead th {\n        text-align: right;\n    }\n</style>\n<table border=\"1\" class=\"dataframe\">\n  <thead>\n    <tr style=\"text-align: right;\">\n      <th></th>\n      <th>ID</th>\n      <th>Date</th>\n      <th>Open</th>\n      <th>High</th>\n      <th>Low</th>\n      <th>Close</th>\n      <th>Volume</th>\n      <th>Complete</th>\n      <th>Created_at</th>\n      <th>Updated_at</th>\n    </tr>\n  </thead>\n  <tbody>\n    <tr>\n      <th>0</th>\n      <td>41468</td>\n      <td>2024-03-15 00:00:00</td>\n      <td>148.112</td>\n      <td>148.134</td>\n      <td>148.098</td>\n      <td>148.101</td>\n      <td>235</td>\n      <td>1</td>\n      <td>2024-04-28 20:00:33</td>\n      <td>2024-04-28 20:00:33</td>\n    </tr>\n    <tr>\n      <th>1</th>\n      <td>41469</td>\n      <td>2024-03-15 00:01:00</td>\n      <td>148.101</td>\n      <td>148.104</td>\n      <td>148.078</td>\n      <td>148.080</td>\n      <td>273</td>\n      <td>1</td>\n      <td>2024-04-28 20:00:33</td>\n      <td>2024-04-28 20:00:33</td>\n    </tr>\n    <tr>\n      <th>2</th>\n      <td>41470</td>\n      <td>2024-03-15 00:02:00</td>\n      <td>148.080</td>\n      <td>148.090</td>\n      <td>148.052</td>\n      <td>148.052</td>\n      <td>222</td>\n      <td>1</td>\n      <td>2024-04-28 20:00:33</td>\n      <td>2024-04-28 20:00:33</td>\n    </tr>\n    <tr>\n      <th>3</th>\n      <td>41471</td>\n      <td>2024-03-15 00:03:00</td>\n      <td>148.052</td>\n      <td>148.088</td>\n      <td>148.052</td>\n      <td>148.087</td>\n      <td>208</td>\n      <td>1</td>\n      <td>2024-04-28 20:00:33</td>\n      <td>2024-04-28 20:00:33</td>\n    </tr>\n    <tr>\n      <th>4</th>\n      <td>41472</td>\n      <td>2024-03-15 00:04:00</td>\n      <td>148.087</td>\n      <td>148.111</td>\n      <td>148.081</td>\n      <td>148.096</td>\n      <td>201</td>\n      <td>1</td>\n      <td>2024-04-28 20:00:33</td>\n      <td>2024-04-28 20:00:33</td>\n    </tr>\n  </tbody>\n</table>\n</div>"
     },
     "execution_count": 3,
     "metadata": {},
     "output_type": "execute_result"
    }
   ],
   "source": [
    "df.head()"
   ]
  },
  {
   "cell_type": "code",
   "execution_count": 4,
   "metadata": {
    "ExecuteTime": {
     "end_time": "2024-05-03T06:04:51.321068Z",
     "start_time": "2024-05-03T06:04:51.310614Z"
    }
   },
   "outputs": [],
   "source": [
    "window_size=21\n",
    "def create_timestamps_ds(series, timestep_size=window_size):\n",
    "    \"\"\"\n",
    "    時系列データをモデルが処理できる形式に変換する\n",
    "    \"\"\"\n",
    "    time_stamps = []\n",
    "    labels = []\n",
    "\n",
    "    # collectionsモジュールのdeque（デック）というデータ構造を使用する\n",
    "    # dequeは、両端で要素の追加や削除が高速に行えるリスト型のデータ構造です\n",
    "    aux_deque = deque(maxlen=timestep_size)\n",
    "    #starting the timestep deque\n",
    "    for i in range(timestep_size):\n",
    "        aux_deque.append(0)\n",
    "    #feed the timestamps list\n",
    "    for i in range(len(series) - 1):\n",
    "        aux_deque.append(series[i])\n",
    "        time_stamps.append(list(aux_deque))\n",
    "    #feed the labels lsit\n",
    "    for i in range(len(series) - 1):\n",
    "        labels.append(series[i + 1])\n",
    "\n",
    "    assert len(time_stamps) == len(labels), \"Something went wrong\"\n",
    "\n",
    "    # torch-tensoring it 浮動小数点数のテンソルに変換\n",
    "    # テンソルは、多次元配列のようなもので、PyTorchではニューラルネットワークの入力データやパラメータ、出力データを表現するために使用される\n",
    "    features = torch.tensor(time_stamps[timestep_size:]).float()\n",
    "    labels = torch.tensor(labels[timestep_size:]).float()\n",
    "\n",
    "    return features, labels"
   ]
  },
  {
   "cell_type": "code",
   "execution_count": 5,
   "metadata": {
    "ExecuteTime": {
     "end_time": "2024-05-03T06:04:52.357801Z",
     "start_time": "2024-05-03T06:04:52.341096Z"
    }
   },
   "outputs": [],
   "source": [
    "@variational_estimator\n",
    "class NN(nn.Module):\n",
    "    \"\"\"\n",
    "    ベイジアンLSTMを使用したニューラルネットワーク\n",
    "    時系列データのパターンを学習し、未来の株価を予測するために使用される\n",
    "    \"\"\"\n",
    "    def __init__(self):\n",
    "        \"\"\"\n",
    "        ニューラルネットワークのレイヤーを定義する\n",
    "        BayesianLSTMは、LSTM（Long Short-Term Memory）は、時系列データのパターンを学習するために使用される\n",
    "        nn.Linearは、全結合レイヤー（線形レイヤー）であり、ニューラルネットワークの各レイヤーが前のレイヤーと全結合していることを意味する\n",
    "        \"\"\"\n",
    "        super(NN, self).__init__()\n",
    "        self.lstm_1 = BayesianLSTM(1, 10, prior_sigma_1=1, prior_pi=1, posterior_rho_init=-3.0)\n",
    "        self.linear = nn.Linear(10, 1)\n",
    "\n",
    "    def forward(self, x):\n",
    "        \"\"\"\n",
    "        ニューラルネットワークの順伝播を定義する\n",
    "        つまり、入力データがどのようにネットワークを通過し、出力を生成するかを定義\n",
    "        まずBayesianLSTMレイヤーを通過し、その出力が全結合レイヤーに渡され、最終的な出力が生成される\n",
    "        \"\"\"\n",
    "        x_, _ = self.lstm_1(x)\n",
    "\n",
    "        #gathering only the latent end-of-sequence for the linear layer\n",
    "        x_ = x_[:, -1, :]\n",
    "        x_ = self.linear(x_)\n",
    "        return x_"
   ]
  },
  {
   "cell_type": "raw",
   "source": [
    "`self.lstm_1 = BayesianLSTM(1, 10, prior_sigma_1=1, prior_pi=1, posterior_rho_init=-3.0)` は、ニューラルネットワークの一部であるLSTM（Long Short-Term Memory）レイヤーを定義しています。ここで使用されているのは、通常のLSTMではなく、ベイジアンLSTMと呼ばれる特殊な種類のLSTMです。\n",
    "\n",
    "- `BayesianLSTM(1, 10, prior_sigma_1=1, prior_pi=1, posterior_rho_init=-3.0)`：これは、BayesianLSTMレイヤーを作成するためのコンストラクタ呼び出しです。引数は次のように解釈されます：\n",
    "  - 最初の引数`1`は、入力の次元数を示します。この場合、各タイムステップでの入力は1次元です。\n",
    "  - 次の引数`10`は、LSTMレイヤーの隠れユニットの数を示します。これは、LSTMレイヤーの「容量」または「複雑さ」を制御します。\n",
    "  - `prior_sigma_1`、`prior_pi`、`posterior_rho_init`は、ベイジアンLSTMの動作を制御するためのパラメータです。これらは、ネットワークの重みの事前分布と事後分布を制御します。\n",
    "\n",
    "- `self.lstm_1 =`：これは、作成したBayesianLSTMレイヤーをニューラルネットワークの属性として保存しています。これにより、後でこのレイヤーを使用してデータを処理したり、レイヤーのパラメータを学習したりすることができます。\n",
    "\n",
    "このコード行全体は、ニューラルネットワークの一部としてベイジアンLSTMレイヤーを作成し、それをニューラルネットワークの属性として保存しています。このレイヤーは、後でニューラルネットワークの順伝播（データの処理）と逆伝播（パラメータの学習）の両方で使用されます。"
   ],
   "metadata": {
    "collapsed": false
   }
  },
  {
   "cell_type": "code",
   "execution_count": 6,
   "outputs": [],
   "source": [
    "close_prices = df[\"Close\"]\n",
    "# 特徴量のスケーリングを行うためのツールで、特に機械学習モデルを訓練する前にデータを前処理する際に使用される\n",
    "scaler = StandardScaler()\n",
    "\n",
    "# 2次元配列に変換\n",
    "close_prices_arr = np.array(close_prices).reshape(-1, 1)\n",
    "# スケーリング\n",
    "close_prices = scaler.fit_transform(close_prices_arr)\n"
   ],
   "metadata": {
    "collapsed": false,
    "ExecuteTime": {
     "end_time": "2024-05-03T06:04:54.187057Z",
     "start_time": "2024-05-03T06:04:54.180089Z"
    }
   }
  },
  {
   "cell_type": "code",
   "execution_count": null,
   "outputs": [],
   "source": [
    "# 時系列データをモデルが処理できる形式に変換する。\n",
    "# データを一定の時間窓で区切ったもの（Xs）と、それぞれの時間窓の次の値（ys）を生成  \n",
    "# Xsは各時間窓のデータを格納したリスト（または配列）で、ysはそれぞれの時間窓の次の値を格納したリスト\n",
    "# これらは、時系列予測タスクにおける特徴量とラベルに相当します。\n",
    "Xs, ys = create_timestamps_ds(close_prices)"
   ],
   "metadata": {
    "collapsed": false,
    "ExecuteTime": {
     "start_time": "2024-05-03T06:05:10.936731Z"
    }
   }
  },
  {
   "cell_type": "code",
   "execution_count": 8,
   "outputs": [
    {
     "name": "stderr",
     "output_type": "stream",
     "text": [
      "/var/folders/w0/v7s_36jn3n934dw6x_x4_8yr0000gn/T/ipykernel_93332/2132416271.py:27: UserWarning: Creating a tensor from a list of numpy.ndarrays is extremely slow. Please consider converting the list to a single numpy.ndarray with numpy.array() before converting to a tensor. (Triggered internally at /Users/runner/work/pytorch/pytorch/pytorch/torch/csrc/utils/tensor_new.cpp:278.)\n",
      "  features = torch.tensor(time_stamps[timestep_size:]).float()\n"
     ]
    },
    {
     "name": "stdout",
     "output_type": "stream",
     "text": [
      "Train size: 31530 Test size: 10510\n"
     ]
    }
   ],
   "source": [
    "\n",
    "# 訓練データとテストデータに分割\n",
    "# Xsとysは、入力データと対応するラベル。訓練に使用される\n",
    "# test_size=.25は、全体のデータセットのうち25%をテストデータとして使用することを指定する\n",
    "# random_state=42は、データを分割する際のランダムシードを指定する\n",
    "# shuffle=Falseは、データをシャッフルしないことを指定。時系列データの場合、データの順序が重要であるため、通常はシャッフルしない。\n",
    "# 出力は、訓練データ（X_trainとy_train）とテストデータ（X_testとy_test）の4つのデータセットです。これらは、モデルの訓練と評価に使用される\n",
    "X_train, X_test, y_train, y_test = train_test_split(\n",
    "    Xs,\n",
    "    ys,\n",
    "    test_size=.25,\n",
    "    random_state=42,\n",
    "    shuffle=False)\n",
    "\n",
    "# 訓練データ（X_trainとy_train）をデータセットに変換\n",
    "ds = torch.utils.data.TensorDataset(X_train, y_train)\n",
    "# 訓練データをバッチ処理するためのデータローダーを作成\n",
    "# バッチサイズは一度にネットワークに供給されるデータの数（バッチサイズ）を指定\n",
    "dataloader_train = torch.utils.data.DataLoader(ds, batch_size=8, shuffle=True)\n",
    "print(f\"Train size: {len(X_train)} Test size: {len(X_test)}\")\n",
    "\n",
    "net = NN()\n",
    "# 損失関数を定義する。平均二乗誤差（MSE）を使用する\n",
    "# 損失関数は、モデルの予測が実際のラベルからどれだけ離れているかを測定する\n",
    "# 訓練中には、この損失を最小化するようにモデルのパラメータが調整される\n",
    "criterion = nn.MSELoss()\n",
    "# 最適化アルゴリズムを定義する。Adamアルゴリズムを使用する\n",
    "# Adamは、確率的勾配降下法（SGD）の一種であり、モデルのパラメータを最適化するために使用される\n",
    "# lr=0.001は、学習率を指定する。学習率は、モデルのパラメータを更新するステップの大きさを制御する\n",
    "optimizer = optim.Adam(net.parameters(), lr=0.001)"
   ],
   "metadata": {
    "collapsed": false,
    "ExecuteTime": {
     "end_time": "2024-05-03T05:19:59.061415Z",
     "start_time": "2024-05-03T05:19:58.469910Z"
    }
   }
  },
  {
   "cell_type": "code",
   "execution_count": 89,
   "metadata": {
    "ExecuteTime": {
     "end_time": "2024-05-01T17:42:01.586151Z",
     "start_time": "2024-05-01T17:25:24.361813Z"
    }
   },
   "outputs": [
    {
     "name": "stdout",
     "output_type": "stream",
     "text": [
      "Iteration: 250 Val-loss: 0.3143\n",
      "Iteration: 500 Val-loss: 0.2088\n",
      "Iteration: 750 Val-loss: 0.1680\n",
      "Iteration: 1000 Val-loss: 0.1668\n",
      "Iteration: 1250 Val-loss: 0.1730\n",
      "Iteration: 1500 Val-loss: 0.1375\n",
      "Iteration: 1750 Val-loss: 0.1259\n",
      "Iteration: 2000 Val-loss: 0.1185\n",
      "Iteration: 2250 Val-loss: 0.1311\n",
      "Iteration: 2500 Val-loss: 0.1084\n",
      "Iteration: 2750 Val-loss: 0.1554\n",
      "Iteration: 3000 Val-loss: 0.1095\n",
      "Iteration: 3250 Val-loss: 0.0985\n",
      "Iteration: 3500 Val-loss: 0.0852\n",
      "Iteration: 3750 Val-loss: 0.0960\n",
      "Iteration: 4000 Val-loss: 0.1320\n",
      "Iteration: 4250 Val-loss: 0.1003\n",
      "Iteration: 4500 Val-loss: 0.0898\n",
      "Iteration: 4750 Val-loss: 0.0895\n",
      "Iteration: 5000 Val-loss: 0.0961\n",
      "Iteration: 5250 Val-loss: 0.1024\n",
      "Iteration: 5500 Val-loss: 0.1001\n",
      "Iteration: 5750 Val-loss: 0.1090\n",
      "Iteration: 6000 Val-loss: 0.0746\n",
      "Iteration: 6250 Val-loss: 0.0746\n",
      "Iteration: 6500 Val-loss: 0.0836\n",
      "Iteration: 6750 Val-loss: 0.1444\n",
      "Iteration: 7000 Val-loss: 0.0827\n",
      "Iteration: 7250 Val-loss: 0.0700\n",
      "Iteration: 7500 Val-loss: 0.0756\n",
      "Iteration: 7750 Val-loss: 0.0579\n",
      "Iteration: 8000 Val-loss: 0.0893\n",
      "Iteration: 8250 Val-loss: 0.0772\n",
      "Iteration: 8500 Val-loss: 0.0621\n",
      "Iteration: 8750 Val-loss: 0.0311\n",
      "Iteration: 9000 Val-loss: 0.0990\n",
      "Iteration: 9250 Val-loss: 0.0883\n",
      "Iteration: 9500 Val-loss: 0.0618\n",
      "Iteration: 9750 Val-loss: 0.1125\n",
      "Iteration: 10000 Val-loss: 0.0580\n",
      "Iteration: 10250 Val-loss: 0.0465\n",
      "Iteration: 10500 Val-loss: 0.0851\n",
      "Iteration: 10750 Val-loss: 0.0540\n",
      "Iteration: 11000 Val-loss: 0.0223\n",
      "Iteration: 11250 Val-loss: 0.0383\n",
      "Iteration: 11500 Val-loss: 0.0233\n",
      "Iteration: 11750 Val-loss: 0.0509\n",
      "Iteration: 12000 Val-loss: 0.0797\n",
      "Iteration: 12250 Val-loss: 0.0449\n",
      "Iteration: 12500 Val-loss: 0.1078\n",
      "Iteration: 12750 Val-loss: 0.0152\n",
      "Iteration: 13000 Val-loss: 0.0573\n",
      "Iteration: 13250 Val-loss: 0.0695\n",
      "Iteration: 13500 Val-loss: 0.0477\n",
      "Iteration: 13750 Val-loss: 0.0629\n",
      "Iteration: 14000 Val-loss: 0.0378\n",
      "Iteration: 14250 Val-loss: 0.0297\n",
      "Iteration: 14500 Val-loss: 0.0284\n",
      "Iteration: 14750 Val-loss: 0.0475\n",
      "Iteration: 15000 Val-loss: 0.0206\n",
      "Iteration: 15250 Val-loss: 0.0122\n",
      "Iteration: 15500 Val-loss: 0.0118\n",
      "Iteration: 15750 Val-loss: 0.0216\n",
      "Iteration: 16000 Val-loss: 0.0124\n",
      "Iteration: 16250 Val-loss: 0.0164\n",
      "Iteration: 16500 Val-loss: 0.0434\n",
      "Iteration: 16750 Val-loss: 0.0182\n",
      "Iteration: 17000 Val-loss: 0.0199\n",
      "Iteration: 17250 Val-loss: 0.0088\n",
      "Iteration: 17500 Val-loss: 0.0267\n",
      "Iteration: 17750 Val-loss: 0.0179\n",
      "Iteration: 18000 Val-loss: 0.0070\n",
      "Iteration: 18250 Val-loss: 0.0636\n",
      "Iteration: 18500 Val-loss: 0.0131\n",
      "Iteration: 18750 Val-loss: 0.0145\n",
      "Iteration: 19000 Val-loss: 0.0131\n",
      "Iteration: 19250 Val-loss: 0.0037\n",
      "Iteration: 19500 Val-loss: 0.0217\n",
      "Iteration: 19750 Val-loss: 0.0046\n",
      "Iteration: 20000 Val-loss: 0.0104\n",
      "Iteration: 20250 Val-loss: 0.0036\n",
      "Iteration: 20500 Val-loss: 0.0035\n",
      "Iteration: 20750 Val-loss: 0.0253\n",
      "Iteration: 21000 Val-loss: 0.0005\n",
      "Iteration: 21250 Val-loss: 0.0118\n",
      "Iteration: 21500 Val-loss: 0.0191\n",
      "Iteration: 21750 Val-loss: 0.0107\n",
      "Iteration: 22000 Val-loss: 0.0016\n",
      "Iteration: 22250 Val-loss: 0.0066\n",
      "Iteration: 22500 Val-loss: 0.0071\n",
      "Iteration: 22750 Val-loss: 0.0009\n",
      "Iteration: 23000 Val-loss: 0.0315\n",
      "Iteration: 23250 Val-loss: 0.0011\n",
      "Iteration: 23500 Val-loss: 0.0577\n",
      "Iteration: 23750 Val-loss: 0.0053\n",
      "Iteration: 24000 Val-loss: 0.0199\n",
      "Iteration: 24250 Val-loss: 0.0156\n",
      "Iteration: 24500 Val-loss: 0.0086\n",
      "Iteration: 24750 Val-loss: 0.0227\n",
      "Iteration: 25000 Val-loss: 0.0292\n",
      "Iteration: 25250 Val-loss: 0.0094\n",
      "Iteration: 25500 Val-loss: 0.1558\n",
      "Iteration: 25750 Val-loss: 0.0062\n",
      "Iteration: 26000 Val-loss: 0.0068\n",
      "Iteration: 26250 Val-loss: 0.0044\n",
      "Iteration: 26500 Val-loss: 0.0025\n",
      "Iteration: 26750 Val-loss: 0.0630\n",
      "Iteration: 27000 Val-loss: 0.0123\n",
      "Iteration: 27250 Val-loss: 0.0061\n",
      "Iteration: 27500 Val-loss: 0.0430\n",
      "Iteration: 27750 Val-loss: 0.0076\n",
      "Iteration: 28000 Val-loss: 0.0661\n",
      "Iteration: 28250 Val-loss: 0.0011\n",
      "Iteration: 28500 Val-loss: 0.0261\n",
      "Iteration: 28750 Val-loss: 0.0088\n",
      "Iteration: 29000 Val-loss: 0.0061\n",
      "Iteration: 29250 Val-loss: 0.0022\n",
      "Iteration: 29500 Val-loss: 0.0078\n",
      "Iteration: 29750 Val-loss: 0.0309\n",
      "Iteration: 30000 Val-loss: 0.0170\n",
      "Iteration: 30250 Val-loss: 0.0182\n",
      "Iteration: 30500 Val-loss: 0.0276\n",
      "Iteration: 30750 Val-loss: 0.0024\n",
      "Iteration: 31000 Val-loss: 0.0190\n",
      "Iteration: 31250 Val-loss: 0.0005\n",
      "Iteration: 31500 Val-loss: 0.0002\n",
      "Iteration: 31750 Val-loss: 0.0094\n",
      "Iteration: 32000 Val-loss: 0.0108\n",
      "Iteration: 32250 Val-loss: 0.0006\n",
      "Iteration: 32500 Val-loss: 0.0182\n",
      "Iteration: 32750 Val-loss: 0.0045\n",
      "Iteration: 33000 Val-loss: 0.0043\n",
      "Iteration: 33250 Val-loss: 0.1684\n",
      "Iteration: 33500 Val-loss: 0.0042\n",
      "Iteration: 33750 Val-loss: 0.0036\n",
      "Iteration: 34000 Val-loss: 0.0250\n",
      "Iteration: 34250 Val-loss: 0.0553\n",
      "Iteration: 34500 Val-loss: 0.0086\n",
      "Iteration: 34750 Val-loss: 0.0003\n",
      "Iteration: 35000 Val-loss: 0.0044\n",
      "Iteration: 35250 Val-loss: 0.0004\n",
      "Iteration: 35500 Val-loss: 0.0050\n",
      "Iteration: 35750 Val-loss: 0.0092\n",
      "Iteration: 36000 Val-loss: 0.0045\n",
      "Iteration: 36250 Val-loss: 0.0045\n",
      "Iteration: 36500 Val-loss: 0.0012\n",
      "Iteration: 36750 Val-loss: 0.0088\n",
      "Iteration: 37000 Val-loss: 0.0094\n",
      "Iteration: 37250 Val-loss: 0.0288\n",
      "Iteration: 37500 Val-loss: 0.0011\n",
      "Iteration: 37750 Val-loss: 0.0004\n",
      "Iteration: 38000 Val-loss: 0.0028\n",
      "Iteration: 38250 Val-loss: 0.0043\n",
      "Iteration: 38500 Val-loss: 0.0173\n",
      "Iteration: 38750 Val-loss: 0.0014\n",
      "Iteration: 39000 Val-loss: 0.0010\n",
      "Iteration: 39250 Val-loss: 0.0434\n"
     ]
    }
   ],
   "source": [
    "iteration = 0\n",
    "# エポックのループです。エポックとは、訓練データ全体を一度通過することを指す\n",
    "for epoch in range(10):\n",
    "    # バッチのループ。バッチとは、訓練データを一部分ずつ処理するための小さなデータの塊\n",
    "    for i, (datapoints, labels) in enumerate(dataloader_train):\n",
    "        # 最適化アルゴリズムの勾配をゼロにリセット\n",
    "        optimizer.zero_grad()\n",
    "        \n",
    "        # モデルの損失（エラー）を計算します。この損失は、モデルの予測と実際のラベルとの差を表す\n",
    "        # sample_elboは、ベイジアンニューラルネットワークの損失を計算するための関数\n",
    "        loss = net.sample_elbo(\n",
    "            inputs=datapoints,\n",
    "            labels=labels,\n",
    "            criterion=criterion,\n",
    "            sample_nbr=3,\n",
    "            complexity_cost_weight=1 / X_train.shape[0])\n",
    "        # 損失に対する各パラメータの勾配を計算する。パラメータを更新するために必要\n",
    "        loss.backward()\n",
    "        # 計算された勾配を使用して、モデルのパラメータを更新する\n",
    "        optimizer.step()\n",
    "\n",
    "        # 250回のイテレーションごとに、テストデータに対する損失を計算し、表示する\n",
    "        iteration += 1\n",
    "        if iteration % 250 == 0:\n",
    "            preds_test = net(X_test)[:, 0].unsqueeze(1)\n",
    "            loss_test = criterion(preds_test, y_test)\n",
    "            print(\"Iteration: {} Val-loss: {:.4f}\".format(str(iteration), loss_test))"
   ]
  },
  {
   "cell_type": "code",
   "execution_count": 89,
   "metadata": {
    "ExecuteTime": {
     "end_time": "2024-05-01T17:42:01.603619Z",
     "start_time": "2024-05-01T17:42:01.602566Z"
    }
   },
   "outputs": [],
   "source": []
  },
  {
   "cell_type": "code",
   "execution_count": 90,
   "metadata": {
    "ExecuteTime": {
     "end_time": "2024-05-01T17:42:01.732552Z",
     "start_time": "2024-05-01T17:42:01.652928Z"
    }
   },
   "outputs": [],
   "source": [
    "# 時系列データを処理する際の「ウィンドウサイズ」を設定しています。\n",
    "# ウィンドウサイズとは、一度にモデルが見る過去のデータポイントの数を指します。\n",
    "# この場合、モデルは過去21ポイントのデータを見て、次のデータポイントを予測します。 \n",
    "# この値は、時系列データをモデルが処理できる形式に変換する際に使用されます。\n",
    "# create_timestamps_ds 関数内で、各ウィンドウ（または時間ステップ）に対応するデータポイントのセットを作成するために使用されます  \n",
    "# ウィンドウサイズはハイパーパラメータであり、モデルの性能に影響を与えます。\n",
    "window_size = 21\n",
    "#pred_unscaled\n",
    "original = df[\"Close\"][1:][window_size:]  # データフレームdfから「Close」列を取得し、最初の要素とwindow_size以降の要素をスキップ\n",
    "df_pred = pd.DataFrame(original)\n",
    "df_pred[\"Date\"] = df.Date\n",
    "df[\"Date\"] = pd.to_datetime(df_pred[\"Date\"])  # 「Date」列を日付型（datetime）に変換\n",
    "df_pred = df_pred.reset_index()  # インデックスを0から始まる連番になるようにリセット"
   ]
  },
  {
   "cell_type": "code",
   "execution_count": 102,
   "metadata": {
    "ExecuteTime": {
     "end_time": "2024-05-01T18:36:08.607313Z",
     "start_time": "2024-05-01T18:36:08.597757Z"
    }
   },
   "outputs": [],
   "source": [
    "def pred_stock_future(\n",
    "        X_test,\n",
    "        future_length,\n",
    "        sample_nbr=10):\n",
    "    \"\"\"\n",
    "    与えられたテストデータ X_test を用いて、未来の株価を予測するためのものです。\n",
    "    ベイジアンニューラルネットワークのモデルを使用して、指定された未来の日数 future_length にわたる株価の予測値を生成します。\n",
    "    \"\"\"\n",
    "    global window_size\n",
    "    global X_train\n",
    "    global Xs\n",
    "    global scaler\n",
    "\n",
    "    # 予測値を格納するための空のリストを作成\n",
    "    preds_test = []\n",
    "    # 予測を開始する最初のデータポイントを取得\n",
    "    # テストデータの最初のウィンドウを取得し、それをdeque（両端キュー）に変換します。\n",
    "    # dequeは、両端で要素の追加や削除が高速に行えるリスト型のデータ構造です。\n",
    "    test_begin = X_test[0:1, :, :]\n",
    "    test_deque = deque(test_begin[0, :, 0].tolist(), maxlen=window_size)\n",
    "    # 予測値のインデックスをdf[\"Date\"] のような日付型を生成\n",
    "    idx_pred = df[\"Date\"][len(X_train) + window_size:].values\n",
    "    # idx_pred = np.arange(len(X_train), len(Xs))\n",
    "\n",
    "    # テストデータの各ウィンドウに対してループ\n",
    "    for i in range(len(X_test)):\n",
    "        # テストデータのウィンドウをモデルに供給し、未来の株価を予測\n",
    "        # 現在のウィンドウをニューラルネットワークの入力として使用できる形式に変換します。\n",
    "        as_net_input = torch.tensor(test_deque).unsqueeze(0).unsqueeze(2)\n",
    "        # 現在のウィンドウに対する予測値を生成します。sample_nbr 回繰り返され、それぞれの予測値がリスト pred に格納されます。\n",
    "        pred = [net(as_net_input).cpu().item() for i in range(sample_nbr)]\n",
    "        # 生成した予測値の平均をdequeに追加し、予測値のリスト全体を preds_test に追加します。\n",
    "        test_deque.append(torch.tensor(pred).mean().cpu().item())\n",
    "        preds_test.append(pred)\n",
    "\n",
    "        # 指定された未来の日数ごとに、dequeとテストデータのウィンドウを更新します。\n",
    "        if i % future_length == 0:\n",
    "            #our inptus become the i index of our X_test\n",
    "            #That tweak just helps us with shape issues\n",
    "            test_begin = X_test[i:i + 1, :, :]\n",
    "            test_deque = deque(test_begin[0, :, 0].tolist(), maxlen=window_size)\n",
    "\n",
    "    #preds_test = np.array(preds_test).reshape(-1, 1)\n",
    "    #preds_test_unscaled = scaler.inverse_transform(preds_test)\n",
    "\n",
    "    return idx_pred, preds_test"
   ]
  },
  {
   "cell_type": "code",
   "execution_count": 103,
   "metadata": {
    "ExecuteTime": {
     "end_time": "2024-05-01T18:36:10.221854Z",
     "start_time": "2024-05-01T18:36:10.211255Z"
    }
   },
   "outputs": [],
   "source": [
    "def get_confidence_intervals(preds_test, ci_multiplier):\n",
    "    \"\"\"\n",
    "    予測結果の信頼区間を計算するためのものです。具体的には、予測値の平均と標準偏差を用いて、信頼区間の上限と下限を計算します。\n",
    "    \"\"\"\n",
    "    global scaler\n",
    "    # 予測値をPyTorchのテンソルに変換\n",
    "    preds_test = torch.tensor(preds_test)\n",
    "    # 予測値の平均を計算\n",
    "    pred_mean = preds_test.mean(1)\n",
    "    # 予測値の標準偏差を計算。テンソルからnumpy配列に変換。\n",
    "    pred_std = preds_test.std(1).detach().cpu().numpy()\n",
    "    # 予測値の標準偏差をPyTorchのテンソルに変換\n",
    "    pred_std = torch.tensor((pred_std))\n",
    "    #print(pred_std)\n",
    "    \n",
    "    # 信頼区間の上限と下限を計算します。ci_multiplierは信頼区間の幅を制御するパラメータ\n",
    "    upper_bound = pred_mean + (pred_std * ci_multiplier)\n",
    "    lower_bound = pred_mean - (pred_std * ci_multiplier)\n",
    "    \n",
    "    # 平均値、上限、下限を元のスケールに戻します。これは、モデルの入力データがスケーリング（正規化）されていた場合に必要です。\n",
    "    pred_mean_final = pred_mean.unsqueeze(1).detach().cpu().numpy()\n",
    "    pred_mean_unscaled = scaler.inverse_transform(pred_mean_final)\n",
    "\n",
    "    upper_bound_unscaled = upper_bound.unsqueeze(1).detach().cpu().numpy()\n",
    "    upper_bound_unscaled = scaler.inverse_transform(upper_bound_unscaled)\n",
    "\n",
    "    lower_bound_unscaled = lower_bound.unsqueeze(1).detach().cpu().numpy()\n",
    "    lower_bound_unscaled = scaler.inverse_transform(lower_bound_unscaled)\n",
    "\n",
    "    return pred_mean_unscaled, upper_bound_unscaled, lower_bound_unscaled"
   ]
  },
  {
   "cell_type": "code",
   "execution_count": 104,
   "metadata": {
    "ExecuteTime": {
     "end_time": "2024-05-01T18:42:10.666253Z",
     "start_time": "2024-05-01T18:36:12.008499Z"
    }
   },
   "outputs": [],
   "source": [
    "# future_length=7\n",
    "future_length = 3\n",
    "# sample_nbr = 4\n",
    "sample_nbr = 10\n",
    "# ci_multiplier = 5\n",
    "ci_multiplier = 2\n",
    "idx_pred, preds_test = pred_stock_future(X_test, future_length, sample_nbr)\n",
    "pred_mean_unscaled, upper_bound_unscaled, lower_bound_unscaled = get_confidence_intervals(preds_test,\n",
    "                                                                                          ci_multiplier)"
   ]
  },
  {
   "cell_type": "code",
   "execution_count": 105,
   "outputs": [
    {
     "name": "stdout",
     "output_type": "stream",
     "text": [
      "['2024-04-18T09:21:00.000000000' '2024-04-18T09:22:00.000000000'\n",
      " '2024-04-18T09:23:00.000000000' ... '2024-04-30T23:57:00.000000000'\n",
      " '2024-04-30T23:58:00.000000000' '2024-04-30T23:59:00.000000000']\n"
     ]
    }
   ],
   "source": [
    "print(idx_pred)"
   ],
   "metadata": {
    "collapsed": false,
    "ExecuteTime": {
     "end_time": "2024-05-01T18:42:10.724664Z",
     "start_time": "2024-05-01T18:42:10.669007Z"
    }
   }
  },
  {
   "cell_type": "code",
   "execution_count": 94,
   "metadata": {
    "ExecuteTime": {
     "end_time": "2024-05-01T17:46:48.671364Z",
     "start_time": "2024-05-01T17:46:48.660226Z"
    }
   },
   "outputs": [
    {
     "name": "stdout",
     "output_type": "stream",
     "text": [
      "0.9056137012369172 our predictions are in our confidence interval\n"
     ]
    }
   ],
   "source": [
    "# 実際の株価（df.Close）の最後の部分（予測結果と同じ長さ）を取得し、それを2次元配列に変換しています。\n",
    "# y = np.array(df.close[-750:]).reshape(-1, 1)\n",
    "y = np.array(df.Close[-len(upper_bound_unscaled):]).reshape(-1, 1)\n",
    "# 予測結果の信頼区間の上限upper_bound_unscaled と下限 lower_bound_unscaled を比較し、それらが実際のデータ y の範囲内にあるかどうかを確認します。\n",
    "under_upper = upper_bound_unscaled > y\n",
    "over_lower = lower_bound_unscaled < y\n",
    "# 上記の2つのブール値配列が等しいかどうかを判定しています。これは、実際の株価が信頼区間内に収まっている場合にTrueとなります。\n",
    "total = (under_upper == over_lower)\n",
    "\n",
    "print(\"{} our predictions are in our confidence interval\".format(np.mean(total)))"
   ]
  },
  {
   "cell_type": "code",
   "execution_count": 95,
   "metadata": {
    "ExecuteTime": {
     "end_time": "2024-05-01T17:46:49.001509Z",
     "start_time": "2024-05-01T17:46:48.745538Z"
    }
   },
   "outputs": [
    {
     "data": {
      "text/plain": "<matplotlib.legend.Legend at 0x18bc00730>"
     },
     "execution_count": 95,
     "metadata": {},
     "output_type": "execute_result"
    },
    {
     "data": {
      "text/plain": "<Figure size 640x480 with 1 Axes>",
      "image/png": "[encoded data removed]"
     },
     "metadata": {},
     "output_type": "display_data"
    }
   ],
   "source": [
    "# プロットの色設定を定義します\n",
    "params = {\"ytick.color\": \"black\",\n",
    "          \"xtick.color\": \"black\",\n",
    "          \"axes.labelcolor\": \"black\",\n",
    "          \"axes.edgecolor\": \"black\"}\n",
    "plt.rcParams.update(params)\n",
    "# 実際の株価をプロットします。x軸は日付（df_pred.index）、y軸は株価（df_pred.Close）です。\n",
    "# 線の色は黒で、ラベルは\"Real\"としています。\n",
    "plt.plot(df_pred.index,\n",
    "         df_pred.Close,\n",
    "         color='black',\n",
    "         label=\"Real\")\n",
    "# 予測した株価をプロットします。x軸は予測値のインデックス（idx_pred）、y軸は予測値（pred_mean_unscaled）です。\n",
    "# 線の色は赤で、ラベルは\"Prediction for {} days, than consult\"としています。\n",
    "plt.plot(idx_pred,\n",
    "         pred_mean_unscaled,\n",
    "         label=\"Prediction for {} days, than consult\".format(future_length),\n",
    "         color=\"red\")\n",
    "# 予測結果の信頼区間をプロットします。\n",
    "# x軸は予測値のインデックス（idx_pred）、\n",
    "# y軸は信頼区間の上限（upper_bound_unscaled）と下限（lower_bound_unscaled）です。\n",
    "# 領域の色は緑で、ラベルは\"Confidence interval\"としています。\n",
    "# alpha=0.5により領域の色を半透明にしています。\n",
    "plt.fill_between(x=idx_pred,\n",
    "                 y1=upper_bound_unscaled[:, 0],\n",
    "                 y2=lower_bound_unscaled[:, 0],\n",
    "                 facecolor='green',\n",
    "                 label=\"Confidence interval\",\n",
    "                 alpha=0.5)\n",
    "# プロットの凡例を表示します。 \n",
    "plt.legend()"
   ]
  },
  {
   "cell_type": "code",
   "execution_count": 96,
   "metadata": {
    "ExecuteTime": {
     "end_time": "2024-05-01T17:46:49.172531Z",
     "start_time": "2024-05-01T17:46:49.008291Z"
    }
   },
   "outputs": [
    {
     "data": {
      "text/plain": "<matplotlib.legend.Legend at 0x18c1ebf70>"
     },
     "execution_count": 96,
     "metadata": {},
     "output_type": "execute_result"
    },
    {
     "data": {
      "text/plain": "<Figure size 640x480 with 1 Axes>",
      "image/png": "[encoded data removed]"
     },
     "metadata": {},
     "output_type": "display_data"
    }
   ],
   "source": [
    "params = {\"ytick.color\": \"black\",\n",
    "          \"xtick.color\": \"black\",\n",
    "          \"axes.labelcolor\": \"black\",\n",
    "          \"axes.edgecolor\": \"black\"}\n",
    "plt.rcParams.update(params)\n",
    "\n",
    "plt.fill_between(x=idx_pred,\n",
    "                 y1=upper_bound_unscaled[:, 0],\n",
    "                 y2=lower_bound_unscaled[:, 0],\n",
    "                 facecolor='green',\n",
    "                 label=\"Confidence interval\",\n",
    "                 alpha=0.75)\n",
    "\n",
    "plt.plot(idx_pred,\n",
    "         df_pred.Close[-len(pred_mean_unscaled):],\n",
    "         label=\"Real\",\n",
    "         alpha=1,\n",
    "         color='black',\n",
    "         linewidth=0.5)\n",
    "\n",
    "plt.plot(idx_pred,\n",
    "         pred_mean_unscaled,\n",
    "         label=\"Prediction for {} days, than consult\".format(future_length),\n",
    "         color=\"red\",\n",
    "         alpha=0.5)\n",
    "\n",
    "plt.legend()"
   ]
  },
  {
   "cell_type": "code",
   "execution_count": 97,
   "outputs": [],
   "source": [
    "# Date、original, pred_mean_unscaled, upper_bound_unscaled, lower_bound_unscaledの値をCSVに出力する\n",
    "# 保存先はdata/prediction.csvとする\n",
    "# ヘッダーはDate、original、pred_mean_unscaled、upper_bound_unscaled、lower_bound_unscaledとする\n",
    "# df_pred.columns = [\"Date\", \"original\", \"pred_mean_unscaled\", \"upper_bound_unscaled\", \"lower_bound_unscaled\"]\n",
    "# df_pred[\"Date\"] = df.Date\n",
    "# df_pred[\"original\"] = original\n",
    "df_new = pd.DataFrame()\n",
    "df_new.index = idx_pred\n",
    "df_new[\"real\"] = df_pred.Close[-len(pred_mean_unscaled):]\n",
    "df_new[\"pred_mean_unscaled\"] = pred_mean_unscaled\n",
    "df_new[\"upper_bound_unscaled\"] = upper_bound_unscaled[:, 0]\n",
    "df_new[\"lower_bound_unscaled\"] = lower_bound_unscaled[:, 0]\n",
    "\n",
    "# 現時刻を取得して、YYYY_MM_DD-HH_mm_SSのフォーマットにする\n",
    "import datetime\n",
    "# CSVファイルに出力\n",
    "df_new.to_csv(f\"data/prediction_{input_file.split('.')[0]}_{datetime.datetime.now().strftime('%Y%m%d_%H%M%S')}.csv\")\n"
   ],
   "metadata": {
    "collapsed": false,
    "ExecuteTime": {
     "end_time": "2024-05-01T17:46:49.236773Z",
     "start_time": "2024-05-01T17:46:49.177976Z"
    }
   }
  },
  {
   "cell_type": "code",
   "execution_count": 98,
   "outputs": [],
   "source": [
    "import os\n",
    "\n",
    "for i in range(3):\n",
    "    os.system('afplay /System/Library/Sounds/Glass.aiff')"
   ],
   "metadata": {
    "collapsed": false,
    "ExecuteTime": {
     "end_time": "2024-05-01T17:46:58.005639Z",
     "start_time": "2024-05-01T17:46:49.237455Z"
    }
   }
  }
 ],
 "metadata": {
  "kernelspec": {
   "display_name": "Python 3",
   "language": "python",
   "name": "python3"
  },
  "language_info": {
   "codemirror_mode": {
    "name": "ipython",
    "version": 3
   },
   "file_extension": ".py",
   "mimetype": "text/x-python",
   "name": "python",
   "nbconvert_exporter": "python",
   "pygments_lexer": "ipython3",
   "version": "3.8.3"
  }
 },
 "nbformat": 4,
 "nbformat_minor": 4
}
